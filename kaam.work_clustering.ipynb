{
 "cells": [
  {
   "cell_type": "markdown",
   "metadata": {},
   "source": [
    "# K-means Clustering from Scratch"
   ]
  },
  {
   "cell_type": "markdown",
   "metadata": {},
   "source": [
    "Unspervised algorithm: Finds groups in the data with number of groups 'k' being a parameter <br>\n",
    "Algorithm: Iterative<br>\n",
    "Data points clustered based on feature similarity<br>\n",
    "Initialisation: K centroid values<br>\n",
    "Inputs:<br> \n",
    "1.Data<br>\n",
    "2.Number of clusters<br>\n",
    "Results/Outputs: <br>\n",
    "1.Centroids( to assign new data points)<br>\n",
    "2.Labels of each data point <br>\n",
    "Euclidean distance used to as feature similarity: $\\underset{c_i \\in C}{\\arg\\min} \\; dist(c_i,x)^2$"
   ]
  },
  {
   "cell_type": "markdown",
   "metadata": {},
   "source": [
    "Necessary module imports"
   ]
  },
  {
   "cell_type": "code",
   "execution_count": 1,
   "metadata": {},
   "outputs": [],
   "source": [
    "import numpy as np\n",
    "import matplotlib.pyplot as plt\n",
    "% matplotlib inline\n",
    "from copy import deepcopy"
   ]
  },
  {
   "cell_type": "markdown",
   "metadata": {},
   "source": [
    "Create data points"
   ]
  },
  {
   "cell_type": "code",
   "execution_count": 2,
   "metadata": {},
   "outputs": [
    {
     "data": {
      "text/plain": [
       "<matplotlib.collections.PathCollection at 0x1f4fb040a20>"
      ]
     },
     "execution_count": 2,
     "metadata": {},
     "output_type": "execute_result"
    },
    {
     "data": {
      "image/png": "[encoded data removed]",
      "text/plain": [
       "<Figure size 432x288 with 1 Axes>"
      ]
     },
     "metadata": {
      "needs_background": "light"
     },
     "output_type": "display_data"
    }
   ],
   "source": [
    "data_points = np.random.rand(50,2)\n",
    "# print(data_points)\n",
    "plt.scatter(data_points[:,0], data_points[:,1], s=7)"
   ]
  },
  {
   "cell_type": "code",
   "execution_count": 3,
   "metadata": {},
   "outputs": [
    {
     "data": {
      "text/plain": [
       "array([[ 0.77631726,  0.98805351],\n",
       "       [-0.04296007,  0.35951017],\n",
       "       [ 0.77504327,  0.34289627]])"
      ]
     },
     "execution_count": 3,
     "metadata": {},
     "output_type": "execute_result"
    }
   ],
   "source": [
    "# Number of clusters\n",
    "k = 3\n",
    "# Number of training data\n",
    "n = data_points.shape[0]\n",
    "# Number of features in the data\n",
    "c = data_points.shape[1]\n",
    "\n",
    "# Generate random centers, here we use sigma and mean to ensure it represent the whole data\n",
    "mean = np.mean(data_points, axis = 0)\n",
    "std = np.std(data_points, axis = 0)\n",
    "centers = np.random.randn(k,c)*std + mean\n",
    "centers"
   ]
  },
  {
   "cell_type": "code",
   "execution_count": 5,
   "metadata": {},
   "outputs": [
    {
     "data": {
      "text/plain": [
       "<matplotlib.collections.PathCollection at 0x1f4fb105cc0>"
      ]
     },
     "execution_count": 5,
     "metadata": {},
     "output_type": "execute_result"
    },
    {
     "data": {
      "image/png": "[encoded data removed]",
      "text/plain": [
       "<Figure size 432x288 with 1 Axes>"
      ]
     },
     "metadata": {
      "needs_background": "light"
     },
     "output_type": "display_data"
    }
   ],
   "source": [
    "# Plot the data and the centers generated as random\n",
    "plt.scatter(data_points[:,0], data_points[:,1])\n",
    "plt.scatter(centers[:,0], centers[:,1], marker='o', c='r')"
   ]
  },
  {
   "cell_type": "code",
   "execution_count": 6,
   "metadata": {},
   "outputs": [
    {
     "name": "stdout",
     "output_type": "stream",
     "text": [
      "[[0.62594468 0.         0.        ]\n",
      " [0.58608995 0.         0.        ]\n",
      " [0.07548943 0.         0.        ]\n",
      " [0.85216429 0.         0.        ]\n",
      " [0.55108075 0.         0.        ]\n",
      " [0.28684704 0.         0.        ]\n",
      " [0.68472102 0.         0.        ]\n",
      " [0.75082049 0.         0.        ]\n",
      " [0.73874525 0.         0.        ]\n",
      " [0.4396832  0.         0.        ]\n",
      " [1.18273679 0.         0.        ]\n",
      " [0.79843372 0.         0.        ]\n",
      " [0.69284524 0.         0.        ]\n",
      " [0.73284702 0.         0.        ]\n",
      " [0.60388609 0.         0.        ]\n",
      " [0.19446614 0.         0.        ]\n",
      " [0.52193089 0.         0.        ]\n",
      " [0.51102952 0.         0.        ]\n",
      " [1.00003692 0.         0.        ]\n",
      " [0.68750218 0.         0.        ]\n",
      " [0.7427047  0.         0.        ]\n",
      " [0.89440759 0.         0.        ]\n",
      " [0.53599885 0.         0.        ]\n",
      " [0.48669148 0.         0.        ]\n",
      " [0.85589097 0.         0.        ]\n",
      " [1.11193916 0.         0.        ]\n",
      " [0.46170627 0.         0.        ]\n",
      " [0.49338015 0.         0.        ]\n",
      " [0.52970447 0.         0.        ]\n",
      " [0.74113524 0.         0.        ]\n",
      " [0.88282403 0.         0.        ]\n",
      " [1.08057427 0.         0.        ]\n",
      " [1.13539118 0.         0.        ]\n",
      " [0.47118004 0.         0.        ]\n",
      " [0.16214701 0.         0.        ]\n",
      " [0.3418382  0.         0.        ]\n",
      " [0.76344318 0.         0.        ]\n",
      " [0.85087223 0.         0.        ]\n",
      " [0.8013582  0.         0.        ]\n",
      " [0.88164093 0.         0.        ]\n",
      " [0.13057749 0.         0.        ]\n",
      " [0.6097146  0.         0.        ]\n",
      " [0.88686924 0.         0.        ]\n",
      " [0.75279782 0.         0.        ]\n",
      " [0.03179324 0.         0.        ]\n",
      " [0.89455093 0.         0.        ]\n",
      " [0.67865537 0.         0.        ]\n",
      " [0.36790463 0.         0.        ]\n",
      " [0.62400748 0.         0.        ]\n",
      " [0.8692049  0.         0.        ]]\n",
      "[[0.62594468 0.40858355 0.        ]\n",
      " [0.58608995 0.8501737  0.        ]\n",
      " [0.07548943 1.07006369 0.        ]\n",
      " [0.85216429 0.82287044 0.        ]\n",
      " [0.55108075 0.48194152 0.        ]\n",
      " [0.28684704 0.99221283 0.        ]\n",
      " [0.68472102 0.70545618 0.        ]\n",
      " [0.75082049 0.48901511 0.        ]\n",
      " [0.73874525 0.56652937 0.        ]\n",
      " [0.4396832  0.62413008 0.        ]\n",
      " [1.18273679 0.37203838 0.        ]\n",
      " [0.79843372 0.71475668 0.        ]\n",
      " [0.69284524 0.61526797 0.        ]\n",
      " [0.73284702 0.83231401 0.        ]\n",
      " [0.60388609 0.43223132 0.        ]\n",
      " [0.19446614 0.91024793 0.        ]\n",
      " [0.52193089 0.9776184  0.        ]\n",
      " [0.51102952 0.61974789 0.        ]\n",
      " [1.00003692 0.14645294 0.        ]\n",
      " [0.68750218 0.47555803 0.        ]\n",
      " [0.7427047  0.52964643 0.        ]\n",
      " [0.89440759 0.80894912 0.        ]\n",
      " [0.53599885 0.55156285 0.        ]\n",
      " [0.48669148 0.54882024 0.        ]\n",
      " [0.85589097 0.17696136 0.        ]\n",
      " [1.11193916 0.18060872 0.        ]\n",
      " [0.46170627 0.95346985 0.        ]\n",
      " [0.49338015 0.83984285 0.        ]\n",
      " [0.52970447 0.58605681 0.        ]\n",
      " [0.74113524 0.48050458 0.        ]\n",
      " [0.88282403 0.4584359  0.        ]\n",
      " [1.08057427 0.45661531 0.        ]\n",
      " [1.13539118 0.39489167 0.        ]\n",
      " [0.47118004 0.62849842 0.        ]\n",
      " [0.16214701 0.8791986  0.        ]\n",
      " [0.3418382  0.7702252  0.        ]\n",
      " [0.76344318 0.3559907  0.        ]\n",
      " [0.85087223 0.21370399 0.        ]\n",
      " [0.8013582  0.26302756 0.        ]\n",
      " [0.88164093 0.77397316 0.        ]\n",
      " [0.13057749 0.90236683 0.        ]\n",
      " [0.6097146  0.61610263 0.        ]\n",
      " [0.88686924 0.44532683 0.        ]\n",
      " [0.75279782 0.39435269 0.        ]\n",
      " [0.03179324 1.00136381 0.        ]\n",
      " [0.89455093 0.92943088 0.        ]\n",
      " [0.67865537 0.62821265 0.        ]\n",
      " [0.36790463 0.70519203 0.        ]\n",
      " [0.62400748 0.64699763 0.        ]\n",
      " [0.8692049  0.88327573 0.        ]]\n",
      "[[0.62594468 0.40858355 0.53317724]\n",
      " [0.58608995 0.8501737  0.06741291]\n",
      " [0.07548943 1.07006369 0.61774977]\n",
      " [0.85216429 0.82287044 0.20819825]\n",
      " [0.55108075 0.48194152 0.52080839]\n",
      " [0.28684704 0.99221283 0.39269538]\n",
      " [0.68472102 0.70545618 0.11789681]\n",
      " [0.75082049 0.48901511 0.33223046]\n",
      " [0.73874525 0.56652937 0.25954618]\n",
      " [0.4396832  0.62413008 0.63751903]\n",
      " [1.18273679 0.37203838 0.74833524]\n",
      " [0.79843372 0.71475668 0.18822984]\n",
      " [0.69284524 0.61526797 0.2043206 ]\n",
      " [0.73284702 0.83231401 0.08800331]\n",
      " [0.60388609 0.43223132 0.51342797]\n",
      " [0.19446614 0.91024793 0.45207333]\n",
      " [0.52193089 0.9776184  0.20957277]\n",
      " [0.51102952 0.61974789 0.2889215 ]\n",
      " [1.00003692 0.14645294 0.70238242]\n",
      " [0.68750218 0.47555803 0.80997366]\n",
      " [0.7427047  0.52964643 0.91086979]\n",
      " [0.89440759 0.80894912 0.25327278]\n",
      " [0.53599885 0.55156285 0.69127355]\n",
      " [0.48669148 0.54882024 0.48119548]\n",
      " [0.85589097 0.17696136 0.68281158]\n",
      " [1.11193916 0.18060872 0.78453165]\n",
      " [0.46170627 0.95346985 0.23085837]\n",
      " [0.49338015 0.83984285 0.1522595 ]\n",
      " [0.52970447 0.58605681 0.31390938]\n",
      " [0.74113524 0.48050458 0.3387158 ]\n",
      " [0.88282403 0.4584359  0.41616547]\n",
      " [1.08057427 0.45661531 0.5898206 ]\n",
      " [1.13539118 0.39489167 0.68149647]\n",
      " [0.47118004 0.62849842 0.326535  ]\n",
      " [0.16214701 0.8791986  0.52073554]\n",
      " [0.3418382  0.7702252  0.34088441]\n",
      " [0.76344318 0.3559907  0.4643412 ]\n",
      " [0.85087223 0.21370399 0.60901135]\n",
      " [0.8013582  0.26302756 0.56638775]\n",
      " [0.88164093 0.77397316 0.24735008]\n",
      " [0.13057749 0.90236683 0.58277052]\n",
      " [0.6097146  0.61610263 0.84971711]\n",
      " [0.88686924 0.44532683 0.42785174]\n",
      " [0.75279782 0.39435269 0.81185106]\n",
      " [0.03179324 1.00136381 0.63129882]\n",
      " [0.89455093 0.92943088 0.25718081]\n",
      " [0.67865537 0.62821265 0.9241321 ]\n",
      " [0.36790463 0.70519203 0.65121271]\n",
      " [0.62400748 0.64699763 0.88817916]\n",
      " [0.8692049  0.88327573 0.22578444]]\n",
      "[[0.62594468 0.40858355 0.53317724]\n",
      " [0.58608995 0.8501737  0.06741291]\n",
      " [0.07548943 1.07006369 0.61774977]\n",
      " [0.85216429 0.82287044 0.20819825]\n",
      " [0.55108075 0.48194152 0.52080839]\n",
      " [0.28684704 0.99221283 0.39269538]\n",
      " [0.68472102 0.70545618 0.11789681]\n",
      " [0.75082049 0.48901511 0.33223046]\n",
      " [0.73874525 0.56652937 0.25954618]\n",
      " [0.4396832  0.62413008 0.63751903]\n",
      " [1.18273679 0.37203838 0.74833524]\n",
      " [0.79843372 0.71475668 0.18822984]\n",
      " [0.69284524 0.61526797 0.2043206 ]\n",
      " [0.73284702 0.83231401 0.08800331]\n",
      " [0.60388609 0.43223132 0.51342797]\n",
      " [0.19446614 0.91024793 0.45207333]\n",
      " [0.52193089 0.9776184  0.20957277]\n",
      " [0.51102952 0.61974789 0.2889215 ]\n",
      " [1.00003692 0.14645294 0.70238242]\n",
      " [0.68750218 0.47555803 0.80997366]\n",
      " [0.7427047  0.52964643 0.91086979]\n",
      " [0.89440759 0.80894912 0.25327278]\n",
      " [0.53599885 0.55156285 0.69127355]\n",
      " [0.48669148 0.54882024 0.48119548]\n",
      " [0.85589097 0.17696136 0.68281158]\n",
      " [1.11193916 0.18060872 0.78453165]\n",
      " [0.46170627 0.95346985 0.23085837]\n",
      " [0.49338015 0.83984285 0.1522595 ]\n",
      " [0.52970447 0.58605681 0.31390938]\n",
      " [0.74113524 0.48050458 0.3387158 ]\n",
      " [0.88282403 0.4584359  0.41616547]\n",
      " [1.08057427 0.45661531 0.5898206 ]\n",
      " [1.13539118 0.39489167 0.68149647]\n",
      " [0.47118004 0.62849842 0.326535  ]\n",
      " [0.16214701 0.8791986  0.52073554]\n",
      " [0.3418382  0.7702252  0.34088441]\n",
      " [0.76344318 0.3559907  0.4643412 ]\n",
      " [0.85087223 0.21370399 0.60901135]\n",
      " [0.8013582  0.26302756 0.56638775]\n",
      " [0.88164093 0.77397316 0.24735008]\n",
      " [0.13057749 0.90236683 0.58277052]\n",
      " [0.6097146  0.61610263 0.84971711]\n",
      " [0.88686924 0.44532683 0.42785174]\n",
      " [0.75279782 0.39435269 0.81185106]\n",
      " [0.03179324 1.00136381 0.63129882]\n",
      " [0.89455093 0.92943088 0.25718081]\n",
      " [0.67865537 0.62821265 0.9241321 ]\n",
      " [0.36790463 0.70519203 0.65121271]\n",
      " [0.62400748 0.64699763 0.88817916]\n",
      " [0.8692049  0.88327573 0.22578444]]\n",
      "[[0.62594468 0.40858355 0.53317724]\n",
      " [0.58608995 0.8501737  0.06741291]\n",
      " [0.07548943 1.07006369 0.61774977]\n",
      " [0.85216429 0.82287044 0.20819825]\n",
      " [0.55108075 0.48194152 0.52080839]\n",
      " [0.28684704 0.99221283 0.39269538]\n",
      " [0.68472102 0.70545618 0.11789681]\n",
      " [0.75082049 0.48901511 0.33223046]\n",
      " [0.73874525 0.56652937 0.25954618]\n",
      " [0.4396832  0.62413008 0.63751903]\n",
      " [1.18273679 0.37203838 0.74833524]\n",
      " [0.79843372 0.71475668 0.18822984]\n",
      " [0.69284524 0.61526797 0.2043206 ]\n",
      " [0.73284702 0.83231401 0.08800331]\n",
      " [0.60388609 0.43223132 0.51342797]\n",
      " [0.19446614 0.91024793 0.45207333]\n",
      " [0.52193089 0.9776184  0.20957277]\n",
      " [0.51102952 0.61974789 0.2889215 ]\n",
      " [1.00003692 0.14645294 0.70238242]\n",
      " [0.68750218 0.47555803 0.80997366]\n",
      " [0.7427047  0.52964643 0.91086979]\n",
      " [0.89440759 0.80894912 0.25327278]\n",
      " [0.53599885 0.55156285 0.69127355]\n",
      " [0.48669148 0.54882024 0.48119548]\n",
      " [0.85589097 0.17696136 0.68281158]\n",
      " [1.11193916 0.18060872 0.78453165]\n",
      " [0.46170627 0.95346985 0.23085837]\n",
      " [0.49338015 0.83984285 0.1522595 ]\n",
      " [0.52970447 0.58605681 0.31390938]\n",
      " [0.74113524 0.48050458 0.3387158 ]\n",
      " [0.88282403 0.4584359  0.41616547]\n",
      " [1.08057427 0.45661531 0.5898206 ]\n",
      " [1.13539118 0.39489167 0.68149647]\n",
      " [0.47118004 0.62849842 0.326535  ]\n",
      " [0.16214701 0.8791986  0.52073554]\n",
      " [0.3418382  0.7702252  0.34088441]\n",
      " [0.76344318 0.3559907  0.4643412 ]\n",
      " [0.85087223 0.21370399 0.60901135]\n",
      " [0.8013582  0.26302756 0.56638775]\n",
      " [0.88164093 0.77397316 0.24735008]\n",
      " [0.13057749 0.90236683 0.58277052]\n",
      " [0.6097146  0.61610263 0.84971711]\n",
      " [0.88686924 0.44532683 0.42785174]\n",
      " [0.75279782 0.39435269 0.81185106]\n",
      " [0.03179324 1.00136381 0.63129882]\n",
      " [0.89455093 0.92943088 0.25718081]\n",
      " [0.67865537 0.62821265 0.9241321 ]\n",
      " [0.36790463 0.70519203 0.65121271]\n",
      " [0.62400748 0.64699763 0.88817916]\n",
      " [0.8692049  0.88327573 0.22578444]]\n",
      "[[0.62594468 0.40858355 0.53317724]\n",
      " [0.58608995 0.8501737  0.06741291]\n",
      " [0.07548943 1.07006369 0.61774977]\n",
      " [0.85216429 0.82287044 0.20819825]\n",
      " [0.55108075 0.48194152 0.52080839]\n",
      " [0.28684704 0.99221283 0.39269538]\n",
      " [0.68472102 0.70545618 0.11789681]\n",
      " [0.75082049 0.48901511 0.33223046]\n",
      " [0.73874525 0.56652937 0.25954618]\n",
      " [0.4396832  0.62413008 0.63751903]\n",
      " [1.18273679 0.37203838 0.74833524]\n",
      " [0.79843372 0.71475668 0.18822984]\n",
      " [0.69284524 0.61526797 0.2043206 ]\n",
      " [0.73284702 0.83231401 0.08800331]\n",
      " [0.60388609 0.43223132 0.51342797]\n",
      " [0.19446614 0.91024793 0.45207333]\n",
      " [0.52193089 0.9776184  0.20957277]\n",
      " [0.51102952 0.61974789 0.2889215 ]\n",
      " [1.00003692 0.14645294 0.70238242]\n",
      " [0.68750218 0.47555803 0.80997366]\n",
      " [0.7427047  0.52964643 0.91086979]\n",
      " [0.89440759 0.80894912 0.25327278]\n",
      " [0.53599885 0.55156285 0.69127355]\n",
      " [0.48669148 0.54882024 0.48119548]\n",
      " [0.85589097 0.17696136 0.68281158]\n",
      " [1.11193916 0.18060872 0.78453165]\n",
      " [0.46170627 0.95346985 0.23085837]\n",
      " [0.49338015 0.83984285 0.1522595 ]\n",
      " [0.52970447 0.58605681 0.31390938]\n",
      " [0.74113524 0.48050458 0.3387158 ]\n",
      " [0.88282403 0.4584359  0.41616547]\n",
      " [1.08057427 0.45661531 0.5898206 ]\n",
      " [1.13539118 0.39489167 0.68149647]\n",
      " [0.47118004 0.62849842 0.326535  ]\n",
      " [0.16214701 0.8791986  0.52073554]\n",
      " [0.3418382  0.7702252  0.34088441]\n",
      " [0.76344318 0.3559907  0.4643412 ]\n",
      " [0.85087223 0.21370399 0.60901135]\n",
      " [0.8013582  0.26302756 0.56638775]\n",
      " [0.88164093 0.77397316 0.24735008]\n",
      " [0.13057749 0.90236683 0.58277052]\n",
      " [0.6097146  0.61610263 0.84971711]\n",
      " [0.88686924 0.44532683 0.42785174]\n",
      " [0.75279782 0.39435269 0.81185106]\n",
      " [0.03179324 1.00136381 0.63129882]\n",
      " [0.89455093 0.92943088 0.25718081]\n",
      " [0.67865537 0.62821265 0.9241321 ]\n",
      " [0.36790463 0.70519203 0.65121271]\n",
      " [0.62400748 0.64699763 0.88817916]\n",
      " [0.8692049  0.88327573 0.22578444]]\n"
     ]
    },
    {
     "data": {
      "text/plain": [
       "array([[0.54171218, 0.8788175 ],\n",
       "       [0.16965023, 0.46261813],\n",
       "       [0.64142791, 0.34217221]])"
      ]
     },
     "execution_count": 6,
     "metadata": {},
     "output_type": "execute_result"
    }
   ],
   "source": [
    "centers_old = np.zeros(centers.shape) # to store old centers\n",
    "centers_new = deepcopy(centers) # Store new centers\n",
    "\n",
    "data_points.shape\n",
    "# clusters = np.zeros(n)\n",
    "distances = np.zeros((n,k))\n",
    "\n",
    "error = np.linalg.norm(centers_new - centers_old)\n",
    "\n",
    "# When, after an update, the estimate of that center stays the same, exit loop\n",
    "while error != 0:\n",
    "    # Measure the distance to every center\n",
    "    for i in range(k):\n",
    "        distances[:,i] = np.linalg.norm(data_points - centers[i], axis=1)\n",
    "        print(distances)\n",
    "    # Assign all training data to closest center\n",
    "    clusters = np.argmin(distances, axis = 1)\n",
    "    \n",
    "    centers_old = deepcopy(centers_new)\n",
    "    # Calculate mean for every cluster and update the center\n",
    "    for i in range(k):\n",
    "        centers_new[i] = np.mean(data_points[clusters == i], axis=0)\n",
    "    error = np.linalg.norm(centers_new - centers_old)\n",
    "centers_new    "
   ]
  },
  {
   "cell_type": "code",
   "execution_count": 7,
   "metadata": {},
   "outputs": [
    {
     "data": {
      "text/plain": [
       "<matplotlib.collections.PathCollection at 0x1f4fb1a05f8>"
      ]
     },
     "execution_count": 7,
     "metadata": {},
     "output_type": "execute_result"
    },
    {
     "data": {
      "image/png": "[encoded data removed]",
      "text/plain": [
       "<Figure size 432x288 with 1 Axes>"
      ]
     },
     "metadata": {
      "needs_background": "light"
     },
     "output_type": "display_data"
    }
   ],
   "source": [
    "# Plot the data and the centers generated as random\n",
    "plt.scatter(data_points[:,0], data_points[:,1], s=7)\n",
    "plt.scatter(centers_new[:,0], centers_new[:,1], marker='*', c='g', s=150)"
   ]
  },
  {
   "cell_type": "code",
   "execution_count": 8,
   "metadata": {},
   "outputs": [
    {
     "data": {
      "text/plain": [
       "array([[ 0.77631726,  0.98805351],\n",
       "       [-0.04296007,  0.35951017],\n",
       "       [ 0.77504327,  0.34289627]])"
      ]
     },
     "execution_count": 8,
     "metadata": {},
     "output_type": "execute_result"
    }
   ],
   "source": [
    "centers"
   ]
  },
  {
   "cell_type": "code",
   "execution_count": 9,
   "metadata": {},
   "outputs": [
    {
     "data": {
      "text/plain": [
       "array([1, 2, 0, 2, 1, 0, 2, 2, 2, 0, 1, 2, 2, 2, 1, 0, 2, 2, 1, 1, 1, 2,\n",
       "       0, 2, 1, 1, 2, 2, 2, 2, 2, 1, 1, 2, 0, 2, 1, 1, 1, 2, 0, 0, 2, 1,\n",
       "       0, 2, 1, 0, 0, 2], dtype=int64)"
      ]
     },
     "execution_count": 9,
     "metadata": {},
     "output_type": "execute_result"
    }
   ],
   "source": [
    "clusters"
   ]
  },
  {
   "cell_type": "code",
   "execution_count": null,
   "metadata": {},
   "outputs": [],
   "source": []
  },
  {
   "cell_type": "code",
   "execution_count": null,
   "metadata": {},
   "outputs": [],
   "source": []
  },
  {
   "cell_type": "code",
   "execution_count": null,
   "metadata": {},
   "outputs": [],
   "source": []
  }
 ],
 "metadata": {
  "kernelspec": {
   "display_name": "Python 3",
   "language": "python",
   "name": "python3"
  },
  "language_info": {
   "codemirror_mode": {
    "name": "ipython",
    "version": 3
   },
   "file_extension": ".py",
   "mimetype": "text/x-python",
   "name": "python",
   "nbconvert_exporter": "python",
   "pygments_lexer": "ipython3",
   "version": "3.7.0"
  }
 },
 "nbformat": 4,
 "nbformat_minor": 2
}
